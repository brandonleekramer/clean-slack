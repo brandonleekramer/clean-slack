{
 "cells": [
  {
   "cell_type": "code",
   "execution_count": null,
   "metadata": {},
   "outputs": [],
   "source": [
    "# installation here: https://github.com/sgratzl/slack_cleaner2\n",
    "# create a token here: https://api.slack.com/apps\n",
    "# notes here: https://github.com/sgratzl/slack-cleaner/issues/79\n",
    "\n",
    "from slack_cleaner2 import *\n",
    "s = SlackCleaner('TOKEN_GOES_HERE')"
   ]
  },
  {
   "cell_type": "code",
   "execution_count": null,
   "metadata": {},
   "outputs": [],
   "source": [
    "# delete all messages in all channels, groups, directs\n",
    "for msg in s.msgs(s.conversations):\n",
    "    msg.delete(replies=True, files=True) "
   ]
  },
  {
   "cell_type": "code",
   "execution_count": null,
   "metadata": {},
   "outputs": [],
   "source": [
    "# all users in the slack \n",
    "print('users', s.users)\n",
    "\n",
    "#IM names from slack \n",
    "print('instant messages', s.ims)"
   ]
  },
  {
   "cell_type": "code",
   "execution_count": null,
   "metadata": {},
   "outputs": [],
   "source": [
    "# create a token where the scope is: im:read | im:history | users:read | chat:write\n",
    "# this deletes all the private messages \n",
    "\n",
    "from slack_cleaner2 import *\n",
    "s = SlackCleaner('TOKEN_GOES_HERE')\n",
    "\n",
    "for channel in s.conversations:\n",
    "    for msg in channel.msgs(with_replies=True):\n",
    "        msg.delete()"
   ]
  }
 ],
 "metadata": {
  "kernelspec": {
   "display_name": "Python 3",
   "language": "python",
   "name": "python3"
  },
  "language_info": {
   "codemirror_mode": {
    "name": "ipython",
    "version": 3
   },
   "file_extension": ".py",
   "mimetype": "text/x-python",
   "name": "python",
   "nbconvert_exporter": "python",
   "pygments_lexer": "ipython3",
   "version": "3.7.4"
  }
 },
 "nbformat": 4,
 "nbformat_minor": 4
}
