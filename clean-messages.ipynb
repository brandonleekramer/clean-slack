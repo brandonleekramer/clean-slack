{
 "cells": [
  {
   "cell_type": "markdown",
   "metadata": {},
   "source": [
    "**deleting slack messages**\n",
    "\n",
    "this is some code to delete slack activity. \"slacktivity\" can take on place on public/private channels, group im's, and 1:1 im's. the code below is developed for each of these domains. \n",
    "\n",
    "first, you have to install python and install [slacker_cleaner2](https://github.com/sgratzl/slack_cleaner2). then you [create a token](https://api.slack.com/apps). you can follow the instructions on the [slack_channel2 README](https://github.com/sgratzl/slack_cleaner2) but i would suggest that you setup the token with the scope to delete group and personal im's. the scope includes: **im:read**, **im:history**, **users:read**, **chat:write**, **mpim:read**, and **mpim:history**. "
   ]
  },
  {
   "cell_type": "code",
   "execution_count": null,
   "metadata": {},
   "outputs": [],
   "source": [
    "# this deletes all the private messages \n",
    "# create a token where the scope is: im:read | im:history | users:read | chat:write | mpim:read | mpim:history \n",
    "\n",
    "from slack_cleaner2 import *\n",
    "s = SlackCleaner('TOKEN_GOES_HERE')\n",
    "\n",
    "for channel in s.conversations:\n",
    "    for msg in channel.msgs(with_replies=True):\n",
    "        msg.delete()"
   ]
  },
  {
   "cell_type": "code",
   "execution_count": null,
   "metadata": {},
   "outputs": [],
   "source": [
    "# if you want to limit which messages you delete you can find out info about the slack channel here\n",
    "\n",
    "# all users in the slack \n",
    "print('users', s.users)\n",
    "\n",
    "#IM names from slack \n",
    "print('instant messages', s.ims)"
   ]
  },
  {
   "cell_type": "code",
   "execution_count": null,
   "metadata": {},
   "outputs": [],
   "source": [
    "# this deletes all your slacktivity in the channels, which you may want to keep \n",
    "from slack_cleaner2 import *\n",
    "s = SlackCleaner('TOKEN_GOES_HERE')\n",
    "\n",
    "for msg in s.msgs(s.conversations):\n",
    "    msg.delete(replies=True, files=True) "
   ]
  }
 ],
 "metadata": {
  "kernelspec": {
   "display_name": "Python 3",
   "language": "python",
   "name": "python3"
  },
  "language_info": {
   "codemirror_mode": {
    "name": "ipython",
    "version": 3
   },
   "file_extension": ".py",
   "mimetype": "text/x-python",
   "name": "python",
   "nbconvert_exporter": "python",
   "pygments_lexer": "ipython3",
   "version": "3.7.4"
  }
 },
 "nbformat": 4,
 "nbformat_minor": 4
}
